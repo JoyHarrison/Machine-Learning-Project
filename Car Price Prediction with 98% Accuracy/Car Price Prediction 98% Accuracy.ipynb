{
 "cells": [
  {
   "cell_type": "code",
   "execution_count": 44,
   "id": "420e178f-239a-4bde-a03c-9c76cc95e5e4",
   "metadata": {},
   "outputs": [
    {
     "data": {
      "text/html": [
       "<div>\n",
       "<style scoped>\n",
       "    .dataframe tbody tr th:only-of-type {\n",
       "        vertical-align: middle;\n",
       "    }\n",
       "\n",
       "    .dataframe tbody tr th {\n",
       "        vertical-align: top;\n",
       "    }\n",
       "\n",
       "    .dataframe thead th {\n",
       "        text-align: right;\n",
       "    }\n",
       "</style>\n",
       "<table border=\"1\" class=\"dataframe\">\n",
       "  <thead>\n",
       "    <tr style=\"text-align: right;\">\n",
       "      <th></th>\n",
       "      <th>car_ID</th>\n",
       "      <th>symboling</th>\n",
       "      <th>CarName</th>\n",
       "      <th>fueltype</th>\n",
       "      <th>aspiration</th>\n",
       "      <th>doornumber</th>\n",
       "      <th>carbody</th>\n",
       "      <th>drivewheel</th>\n",
       "      <th>enginelocation</th>\n",
       "      <th>wheelbase</th>\n",
       "      <th>...</th>\n",
       "      <th>enginesize</th>\n",
       "      <th>fuelsystem</th>\n",
       "      <th>boreratio</th>\n",
       "      <th>stroke</th>\n",
       "      <th>compressionratio</th>\n",
       "      <th>horsepower</th>\n",
       "      <th>peakrpm</th>\n",
       "      <th>citympg</th>\n",
       "      <th>highwaympg</th>\n",
       "      <th>price</th>\n",
       "    </tr>\n",
       "  </thead>\n",
       "  <tbody>\n",
       "    <tr>\n",
       "      <th>0</th>\n",
       "      <td>1</td>\n",
       "      <td>3</td>\n",
       "      <td>alfa-romero giulia</td>\n",
       "      <td>gas</td>\n",
       "      <td>std</td>\n",
       "      <td>two</td>\n",
       "      <td>convertible</td>\n",
       "      <td>rwd</td>\n",
       "      <td>front</td>\n",
       "      <td>88.6</td>\n",
       "      <td>...</td>\n",
       "      <td>130</td>\n",
       "      <td>mpfi</td>\n",
       "      <td>3.47</td>\n",
       "      <td>2.68</td>\n",
       "      <td>9.0</td>\n",
       "      <td>111</td>\n",
       "      <td>5000</td>\n",
       "      <td>21</td>\n",
       "      <td>27</td>\n",
       "      <td>13495.0</td>\n",
       "    </tr>\n",
       "    <tr>\n",
       "      <th>1</th>\n",
       "      <td>2</td>\n",
       "      <td>3</td>\n",
       "      <td>alfa-romero stelvio</td>\n",
       "      <td>gas</td>\n",
       "      <td>std</td>\n",
       "      <td>two</td>\n",
       "      <td>convertible</td>\n",
       "      <td>rwd</td>\n",
       "      <td>front</td>\n",
       "      <td>88.6</td>\n",
       "      <td>...</td>\n",
       "      <td>130</td>\n",
       "      <td>mpfi</td>\n",
       "      <td>3.47</td>\n",
       "      <td>2.68</td>\n",
       "      <td>9.0</td>\n",
       "      <td>111</td>\n",
       "      <td>5000</td>\n",
       "      <td>21</td>\n",
       "      <td>27</td>\n",
       "      <td>16500.0</td>\n",
       "    </tr>\n",
       "    <tr>\n",
       "      <th>2</th>\n",
       "      <td>3</td>\n",
       "      <td>1</td>\n",
       "      <td>alfa-romero Quadrifoglio</td>\n",
       "      <td>gas</td>\n",
       "      <td>std</td>\n",
       "      <td>two</td>\n",
       "      <td>hatchback</td>\n",
       "      <td>rwd</td>\n",
       "      <td>front</td>\n",
       "      <td>94.5</td>\n",
       "      <td>...</td>\n",
       "      <td>152</td>\n",
       "      <td>mpfi</td>\n",
       "      <td>2.68</td>\n",
       "      <td>3.47</td>\n",
       "      <td>9.0</td>\n",
       "      <td>154</td>\n",
       "      <td>5000</td>\n",
       "      <td>19</td>\n",
       "      <td>26</td>\n",
       "      <td>16500.0</td>\n",
       "    </tr>\n",
       "    <tr>\n",
       "      <th>3</th>\n",
       "      <td>4</td>\n",
       "      <td>2</td>\n",
       "      <td>audi 100 ls</td>\n",
       "      <td>gas</td>\n",
       "      <td>std</td>\n",
       "      <td>four</td>\n",
       "      <td>sedan</td>\n",
       "      <td>fwd</td>\n",
       "      <td>front</td>\n",
       "      <td>99.8</td>\n",
       "      <td>...</td>\n",
       "      <td>109</td>\n",
       "      <td>mpfi</td>\n",
       "      <td>3.19</td>\n",
       "      <td>3.40</td>\n",
       "      <td>10.0</td>\n",
       "      <td>102</td>\n",
       "      <td>5500</td>\n",
       "      <td>24</td>\n",
       "      <td>30</td>\n",
       "      <td>13950.0</td>\n",
       "    </tr>\n",
       "    <tr>\n",
       "      <th>4</th>\n",
       "      <td>5</td>\n",
       "      <td>2</td>\n",
       "      <td>audi 100ls</td>\n",
       "      <td>gas</td>\n",
       "      <td>std</td>\n",
       "      <td>four</td>\n",
       "      <td>sedan</td>\n",
       "      <td>4wd</td>\n",
       "      <td>front</td>\n",
       "      <td>99.4</td>\n",
       "      <td>...</td>\n",
       "      <td>136</td>\n",
       "      <td>mpfi</td>\n",
       "      <td>3.19</td>\n",
       "      <td>3.40</td>\n",
       "      <td>8.0</td>\n",
       "      <td>115</td>\n",
       "      <td>5500</td>\n",
       "      <td>18</td>\n",
       "      <td>22</td>\n",
       "      <td>17450.0</td>\n",
       "    </tr>\n",
       "  </tbody>\n",
       "</table>\n",
       "<p>5 rows × 26 columns</p>\n",
       "</div>"
      ],
      "text/plain": [
       "   car_ID  symboling                   CarName fueltype aspiration doornumber  \\\n",
       "0       1          3        alfa-romero giulia      gas        std        two   \n",
       "1       2          3       alfa-romero stelvio      gas        std        two   \n",
       "2       3          1  alfa-romero Quadrifoglio      gas        std        two   \n",
       "3       4          2               audi 100 ls      gas        std       four   \n",
       "4       5          2                audi 100ls      gas        std       four   \n",
       "\n",
       "       carbody drivewheel enginelocation  wheelbase  ...  enginesize  \\\n",
       "0  convertible        rwd          front       88.6  ...         130   \n",
       "1  convertible        rwd          front       88.6  ...         130   \n",
       "2    hatchback        rwd          front       94.5  ...         152   \n",
       "3        sedan        fwd          front       99.8  ...         109   \n",
       "4        sedan        4wd          front       99.4  ...         136   \n",
       "\n",
       "   fuelsystem  boreratio  stroke compressionratio horsepower  peakrpm citympg  \\\n",
       "0        mpfi       3.47    2.68              9.0        111     5000      21   \n",
       "1        mpfi       3.47    2.68              9.0        111     5000      21   \n",
       "2        mpfi       2.68    3.47              9.0        154     5000      19   \n",
       "3        mpfi       3.19    3.40             10.0        102     5500      24   \n",
       "4        mpfi       3.19    3.40              8.0        115     5500      18   \n",
       "\n",
       "   highwaympg    price  \n",
       "0          27  13495.0  \n",
       "1          27  16500.0  \n",
       "2          26  16500.0  \n",
       "3          30  13950.0  \n",
       "4          22  17450.0  \n",
       "\n",
       "[5 rows x 26 columns]"
      ]
     },
     "execution_count": 44,
     "metadata": {},
     "output_type": "execute_result"
    }
   ],
   "source": [
    "import pandas as pd\n",
    "import numpy as np\n",
    "import seaborn as sns\n",
    "import matplotlib.pyplot as plt\n",
    "import scipy.stats as stats#for statistical asnlysis\n",
    "data = pd.read_csv('D:\\JOY\\J AMITY\\Machine Learning\\CarPrice_Assignment.csv')\n",
    "data.head()"
   ]
  },
  {
   "cell_type": "code",
   "execution_count": 45,
   "id": "0b6e5913-b5cf-4141-b517-6155ae7f5338",
   "metadata": {},
   "outputs": [
    {
     "data": {
      "text/plain": [
       "(205, 26)"
      ]
     },
     "execution_count": 45,
     "metadata": {},
     "output_type": "execute_result"
    }
   ],
   "source": [
    "data.shape"
   ]
  },
  {
   "cell_type": "code",
   "execution_count": 46,
   "id": "63584dc5-3eeb-4478-8e6d-88a33066fae6",
   "metadata": {},
   "outputs": [
    {
     "data": {
      "text/plain": [
       "Index(['car_ID', 'symboling', 'CarName', 'fueltype', 'aspiration',\n",
       "       'doornumber', 'carbody', 'drivewheel', 'enginelocation', 'wheelbase',\n",
       "       'carlength', 'carwidth', 'carheight', 'curbweight', 'enginetype',\n",
       "       'cylindernumber', 'enginesize', 'fuelsystem', 'boreratio', 'stroke',\n",
       "       'compressionratio', 'horsepower', 'peakrpm', 'citympg', 'highwaympg',\n",
       "       'price'],\n",
       "      dtype='object')"
      ]
     },
     "execution_count": 46,
     "metadata": {},
     "output_type": "execute_result"
    }
   ],
   "source": [
    "data.columns"
   ]
  },
  {
   "cell_type": "code",
   "execution_count": 47,
   "id": "f3bb2b4b-71d6-45ee-a99f-436e507408dd",
   "metadata": {},
   "outputs": [
    {
     "name": "stdout",
     "output_type": "stream",
     "text": [
      "<class 'pandas.core.frame.DataFrame'>\n",
      "RangeIndex: 205 entries, 0 to 204\n",
      "Data columns (total 26 columns):\n",
      " #   Column            Non-Null Count  Dtype  \n",
      "---  ------            --------------  -----  \n",
      " 0   car_ID            205 non-null    int64  \n",
      " 1   symboling         205 non-null    int64  \n",
      " 2   CarName           205 non-null    object \n",
      " 3   fueltype          205 non-null    object \n",
      " 4   aspiration        205 non-null    object \n",
      " 5   doornumber        205 non-null    object \n",
      " 6   carbody           205 non-null    object \n",
      " 7   drivewheel        205 non-null    object \n",
      " 8   enginelocation    205 non-null    object \n",
      " 9   wheelbase         205 non-null    float64\n",
      " 10  carlength         205 non-null    float64\n",
      " 11  carwidth          205 non-null    float64\n",
      " 12  carheight         205 non-null    float64\n",
      " 13  curbweight        205 non-null    int64  \n",
      " 14  enginetype        205 non-null    object \n",
      " 15  cylindernumber    205 non-null    object \n",
      " 16  enginesize        205 non-null    int64  \n",
      " 17  fuelsystem        205 non-null    object \n",
      " 18  boreratio         205 non-null    float64\n",
      " 19  stroke            205 non-null    float64\n",
      " 20  compressionratio  205 non-null    float64\n",
      " 21  horsepower        205 non-null    int64  \n",
      " 22  peakrpm           205 non-null    int64  \n",
      " 23  citympg           205 non-null    int64  \n",
      " 24  highwaympg        205 non-null    int64  \n",
      " 25  price             205 non-null    float64\n",
      "dtypes: float64(8), int64(8), object(10)\n",
      "memory usage: 41.8+ KB\n"
     ]
    }
   ],
   "source": [
    "data.info()"
   ]
  },
  {
   "cell_type": "code",
   "execution_count": 48,
   "id": "ce70d2bf-b1d8-4319-98b4-b3a82f4755af",
   "metadata": {},
   "outputs": [
    {
     "data": {
      "text/html": [
       "<div>\n",
       "<style scoped>\n",
       "    .dataframe tbody tr th:only-of-type {\n",
       "        vertical-align: middle;\n",
       "    }\n",
       "\n",
       "    .dataframe tbody tr th {\n",
       "        vertical-align: top;\n",
       "    }\n",
       "\n",
       "    .dataframe thead th {\n",
       "        text-align: right;\n",
       "    }\n",
       "</style>\n",
       "<table border=\"1\" class=\"dataframe\">\n",
       "  <thead>\n",
       "    <tr style=\"text-align: right;\">\n",
       "      <th></th>\n",
       "      <th>car_ID</th>\n",
       "      <th>symboling</th>\n",
       "      <th>wheelbase</th>\n",
       "      <th>carlength</th>\n",
       "      <th>carwidth</th>\n",
       "      <th>carheight</th>\n",
       "      <th>curbweight</th>\n",
       "      <th>enginesize</th>\n",
       "      <th>boreratio</th>\n",
       "      <th>stroke</th>\n",
       "      <th>compressionratio</th>\n",
       "      <th>horsepower</th>\n",
       "      <th>peakrpm</th>\n",
       "      <th>citympg</th>\n",
       "      <th>highwaympg</th>\n",
       "      <th>price</th>\n",
       "    </tr>\n",
       "  </thead>\n",
       "  <tbody>\n",
       "    <tr>\n",
       "      <th>count</th>\n",
       "      <td>205.000000</td>\n",
       "      <td>205.000000</td>\n",
       "      <td>205.000000</td>\n",
       "      <td>205.000000</td>\n",
       "      <td>205.000000</td>\n",
       "      <td>205.000000</td>\n",
       "      <td>205.000000</td>\n",
       "      <td>205.000000</td>\n",
       "      <td>205.000000</td>\n",
       "      <td>205.000000</td>\n",
       "      <td>205.000000</td>\n",
       "      <td>205.000000</td>\n",
       "      <td>205.000000</td>\n",
       "      <td>205.000000</td>\n",
       "      <td>205.000000</td>\n",
       "      <td>205.000000</td>\n",
       "    </tr>\n",
       "    <tr>\n",
       "      <th>mean</th>\n",
       "      <td>103.000000</td>\n",
       "      <td>0.834146</td>\n",
       "      <td>98.756585</td>\n",
       "      <td>174.049268</td>\n",
       "      <td>65.907805</td>\n",
       "      <td>53.724878</td>\n",
       "      <td>2555.565854</td>\n",
       "      <td>126.907317</td>\n",
       "      <td>3.329756</td>\n",
       "      <td>3.255415</td>\n",
       "      <td>10.142537</td>\n",
       "      <td>104.117073</td>\n",
       "      <td>5125.121951</td>\n",
       "      <td>25.219512</td>\n",
       "      <td>30.751220</td>\n",
       "      <td>13276.710571</td>\n",
       "    </tr>\n",
       "    <tr>\n",
       "      <th>std</th>\n",
       "      <td>59.322565</td>\n",
       "      <td>1.245307</td>\n",
       "      <td>6.021776</td>\n",
       "      <td>12.337289</td>\n",
       "      <td>2.145204</td>\n",
       "      <td>2.443522</td>\n",
       "      <td>520.680204</td>\n",
       "      <td>41.642693</td>\n",
       "      <td>0.270844</td>\n",
       "      <td>0.313597</td>\n",
       "      <td>3.972040</td>\n",
       "      <td>39.544167</td>\n",
       "      <td>476.985643</td>\n",
       "      <td>6.542142</td>\n",
       "      <td>6.886443</td>\n",
       "      <td>7988.852332</td>\n",
       "    </tr>\n",
       "    <tr>\n",
       "      <th>min</th>\n",
       "      <td>1.000000</td>\n",
       "      <td>-2.000000</td>\n",
       "      <td>86.600000</td>\n",
       "      <td>141.100000</td>\n",
       "      <td>60.300000</td>\n",
       "      <td>47.800000</td>\n",
       "      <td>1488.000000</td>\n",
       "      <td>61.000000</td>\n",
       "      <td>2.540000</td>\n",
       "      <td>2.070000</td>\n",
       "      <td>7.000000</td>\n",
       "      <td>48.000000</td>\n",
       "      <td>4150.000000</td>\n",
       "      <td>13.000000</td>\n",
       "      <td>16.000000</td>\n",
       "      <td>5118.000000</td>\n",
       "    </tr>\n",
       "    <tr>\n",
       "      <th>25%</th>\n",
       "      <td>52.000000</td>\n",
       "      <td>0.000000</td>\n",
       "      <td>94.500000</td>\n",
       "      <td>166.300000</td>\n",
       "      <td>64.100000</td>\n",
       "      <td>52.000000</td>\n",
       "      <td>2145.000000</td>\n",
       "      <td>97.000000</td>\n",
       "      <td>3.150000</td>\n",
       "      <td>3.110000</td>\n",
       "      <td>8.600000</td>\n",
       "      <td>70.000000</td>\n",
       "      <td>4800.000000</td>\n",
       "      <td>19.000000</td>\n",
       "      <td>25.000000</td>\n",
       "      <td>7788.000000</td>\n",
       "    </tr>\n",
       "    <tr>\n",
       "      <th>50%</th>\n",
       "      <td>103.000000</td>\n",
       "      <td>1.000000</td>\n",
       "      <td>97.000000</td>\n",
       "      <td>173.200000</td>\n",
       "      <td>65.500000</td>\n",
       "      <td>54.100000</td>\n",
       "      <td>2414.000000</td>\n",
       "      <td>120.000000</td>\n",
       "      <td>3.310000</td>\n",
       "      <td>3.290000</td>\n",
       "      <td>9.000000</td>\n",
       "      <td>95.000000</td>\n",
       "      <td>5200.000000</td>\n",
       "      <td>24.000000</td>\n",
       "      <td>30.000000</td>\n",
       "      <td>10295.000000</td>\n",
       "    </tr>\n",
       "    <tr>\n",
       "      <th>75%</th>\n",
       "      <td>154.000000</td>\n",
       "      <td>2.000000</td>\n",
       "      <td>102.400000</td>\n",
       "      <td>183.100000</td>\n",
       "      <td>66.900000</td>\n",
       "      <td>55.500000</td>\n",
       "      <td>2935.000000</td>\n",
       "      <td>141.000000</td>\n",
       "      <td>3.580000</td>\n",
       "      <td>3.410000</td>\n",
       "      <td>9.400000</td>\n",
       "      <td>116.000000</td>\n",
       "      <td>5500.000000</td>\n",
       "      <td>30.000000</td>\n",
       "      <td>34.000000</td>\n",
       "      <td>16503.000000</td>\n",
       "    </tr>\n",
       "    <tr>\n",
       "      <th>max</th>\n",
       "      <td>205.000000</td>\n",
       "      <td>3.000000</td>\n",
       "      <td>120.900000</td>\n",
       "      <td>208.100000</td>\n",
       "      <td>72.300000</td>\n",
       "      <td>59.800000</td>\n",
       "      <td>4066.000000</td>\n",
       "      <td>326.000000</td>\n",
       "      <td>3.940000</td>\n",
       "      <td>4.170000</td>\n",
       "      <td>23.000000</td>\n",
       "      <td>288.000000</td>\n",
       "      <td>6600.000000</td>\n",
       "      <td>49.000000</td>\n",
       "      <td>54.000000</td>\n",
       "      <td>45400.000000</td>\n",
       "    </tr>\n",
       "  </tbody>\n",
       "</table>\n",
       "</div>"
      ],
      "text/plain": [
       "           car_ID   symboling   wheelbase   carlength    carwidth   carheight  \\\n",
       "count  205.000000  205.000000  205.000000  205.000000  205.000000  205.000000   \n",
       "mean   103.000000    0.834146   98.756585  174.049268   65.907805   53.724878   \n",
       "std     59.322565    1.245307    6.021776   12.337289    2.145204    2.443522   \n",
       "min      1.000000   -2.000000   86.600000  141.100000   60.300000   47.800000   \n",
       "25%     52.000000    0.000000   94.500000  166.300000   64.100000   52.000000   \n",
       "50%    103.000000    1.000000   97.000000  173.200000   65.500000   54.100000   \n",
       "75%    154.000000    2.000000  102.400000  183.100000   66.900000   55.500000   \n",
       "max    205.000000    3.000000  120.900000  208.100000   72.300000   59.800000   \n",
       "\n",
       "        curbweight  enginesize   boreratio      stroke  compressionratio  \\\n",
       "count   205.000000  205.000000  205.000000  205.000000        205.000000   \n",
       "mean   2555.565854  126.907317    3.329756    3.255415         10.142537   \n",
       "std     520.680204   41.642693    0.270844    0.313597          3.972040   \n",
       "min    1488.000000   61.000000    2.540000    2.070000          7.000000   \n",
       "25%    2145.000000   97.000000    3.150000    3.110000          8.600000   \n",
       "50%    2414.000000  120.000000    3.310000    3.290000          9.000000   \n",
       "75%    2935.000000  141.000000    3.580000    3.410000          9.400000   \n",
       "max    4066.000000  326.000000    3.940000    4.170000         23.000000   \n",
       "\n",
       "       horsepower      peakrpm     citympg  highwaympg         price  \n",
       "count  205.000000   205.000000  205.000000  205.000000    205.000000  \n",
       "mean   104.117073  5125.121951   25.219512   30.751220  13276.710571  \n",
       "std     39.544167   476.985643    6.542142    6.886443   7988.852332  \n",
       "min     48.000000  4150.000000   13.000000   16.000000   5118.000000  \n",
       "25%     70.000000  4800.000000   19.000000   25.000000   7788.000000  \n",
       "50%     95.000000  5200.000000   24.000000   30.000000  10295.000000  \n",
       "75%    116.000000  5500.000000   30.000000   34.000000  16503.000000  \n",
       "max    288.000000  6600.000000   49.000000   54.000000  45400.000000  "
      ]
     },
     "execution_count": 48,
     "metadata": {},
     "output_type": "execute_result"
    }
   ],
   "source": [
    "data.describe()"
   ]
  },
  {
   "cell_type": "code",
   "execution_count": 49,
   "id": "1b217e2f-c769-402e-aac7-1394939ec4aa",
   "metadata": {},
   "outputs": [
    {
     "data": {
      "text/plain": [
       "car_ID              0\n",
       "symboling           0\n",
       "CarName             0\n",
       "fueltype            0\n",
       "aspiration          0\n",
       "doornumber          0\n",
       "carbody             0\n",
       "drivewheel          0\n",
       "enginelocation      0\n",
       "wheelbase           0\n",
       "carlength           0\n",
       "carwidth            0\n",
       "carheight           0\n",
       "curbweight          0\n",
       "enginetype          0\n",
       "cylindernumber      0\n",
       "enginesize          0\n",
       "fuelsystem          0\n",
       "boreratio           0\n",
       "stroke              0\n",
       "compressionratio    0\n",
       "horsepower          0\n",
       "peakrpm             0\n",
       "citympg             0\n",
       "highwaympg          0\n",
       "price               0\n",
       "dtype: int64"
      ]
     },
     "execution_count": 49,
     "metadata": {},
     "output_type": "execute_result"
    }
   ],
   "source": [
    "data.isnull().sum()"
   ]
  },
  {
   "cell_type": "code",
   "execution_count": null,
   "id": "d5ae629e-507c-47c5-b638-733bdd304cb3",
   "metadata": {},
   "outputs": [],
   "source": []
  },
  {
   "cell_type": "code",
   "execution_count": 50,
   "id": "bcc7890a-0e50-4fc0-bb76-a98da5f908d6",
   "metadata": {},
   "outputs": [
    {
     "data": {
      "text/plain": [
       "CarName\n",
       "toyota corona           6\n",
       "toyota corolla          6\n",
       "peugeot 504             6\n",
       "subaru dl               4\n",
       "mitsubishi mirage g4    3\n",
       "                       ..\n",
       "mazda glc 4             1\n",
       "mazda rx2 coupe         1\n",
       "maxda glc deluxe        1\n",
       "maxda rx3               1\n",
       "volvo 246               1\n",
       "Name: count, Length: 147, dtype: int64"
      ]
     },
     "execution_count": 50,
     "metadata": {},
     "output_type": "execute_result"
    }
   ],
   "source": [
    "data.CarName.value_counts()"
   ]
  },
  {
   "cell_type": "code",
   "execution_count": 51,
   "id": "f6fa06d1-22d1-42ab-bff0-cb580b20b75a",
   "metadata": {},
   "outputs": [
    {
     "name": "stdout",
     "output_type": "stream",
     "text": [
      "        Company                                            CarName\n",
      "0        Nissan                                       Nissan versa\n",
      "1   alfa-romero  alfa-romero giuliaalfa-romero stelvioalfa-rome...\n",
      "2          audi  audi 100 lsaudi 100lsaudi foxaudi 100lsaudi 50...\n",
      "3           bmw  bmw 320ibmw 320ibmw x1bmw x3bmw z4bmw x4bmw x5...\n",
      "4         buick  buick electra 225 custombuick century luxus (s...\n",
      "5     chevrolet  chevrolet impalachevrolet monte carlochevrolet...\n",
      "6         dodge  dodge rampagedodge challenger sedodge d200dodg...\n",
      "7         honda  honda civichonda civic cvcchonda civichonda ac...\n",
      "8         isuzu  isuzu MU-Xisuzu D-Max isuzu D-Max V-Crossisuzu...\n",
      "9        jaguar                        jaguar xjjaguar xfjaguar xk\n",
      "10        maxda                          maxda rx3maxda glc deluxe\n",
      "11        mazda  mazda rx2 coupemazda rx-4mazda glc deluxemazda...\n",
      "12      mercury                                     mercury cougar\n",
      "13   mitsubishi  mitsubishi miragemitsubishi lancermitsubishi o...\n",
      "14       nissan  nissan gt-rnissan roguenissan lationissan tita...\n",
      "15      peugeot  peugeot 504peugeot 304peugeot 504 (sw)peugeot ...\n",
      "16     plymouth  plymouth fury iiiplymouth cricketplymouth fury...\n",
      "17     porcshce                                  porcshce panamera\n",
      "18      porsche  porsche macanporsche cayenneporsche boxterpors...\n",
      "19      renault                          renault 12tlrenault 5 gtl\n",
      "20         saab  saab 99esaab 99lesaab 99lesaab 99glesaab 99gle...\n",
      "21       subaru  subarusubaru dlsubaru dlsubarusubaru brzsubaru...\n",
      "22       toyota  toyota corona mark iitoyota coronatoyota corol...\n",
      "23      toyouta                                     toyouta tercel\n",
      "24    vokswagen                                   vokswagen rabbit\n",
      "25   volkswagen  volkswagen 1131 deluxe sedanvolkswagen model 1...\n",
      "26        volvo  volvo 145e (sw)volvo 144eavolvo 244dlvolvo 245...\n",
      "27           vw                                 vw dashervw rabbit\n"
     ]
    }
   ],
   "source": [
    "data['Company'] = data['CarName'].apply(lambda x: x.split(' ', 1)[0])\n",
    "\n",
    "data = data.groupby('Company').sum().reset_index()\n",
    "\n",
    "print(data[['Company', 'CarName']])"
   ]
  },
  {
   "cell_type": "code",
   "execution_count": 52,
   "id": "b0dee8b1-b296-469d-9250-6992b30e73c5",
   "metadata": {},
   "outputs": [
    {
     "data": {
      "text/plain": [
       "0"
      ]
     },
     "execution_count": 52,
     "metadata": {},
     "output_type": "execute_result"
    }
   ],
   "source": [
    "data['Company'].isnull().sum()"
   ]
  },
  {
   "cell_type": "code",
   "execution_count": 53,
   "id": "63185f34-ad1b-4280-b537-21078d202e27",
   "metadata": {},
   "outputs": [],
   "source": [
    "def perform_one_hot_encoding(data, column_name):\n",
    "    one_hot_encoded = pd.get_dummies(data[column_name])\n",
    "    data[one_hot_encoded.columns] = one_hot_encoded\n",
    "    data.drop(column_name, axis=1)\n",
    "    return data"
   ]
  },
  {
   "cell_type": "code",
   "execution_count": 54,
   "id": "c62bf846-fd87-436b-9534-3e0ea067cde8",
   "metadata": {},
   "outputs": [
    {
     "data": {
      "text/plain": [
       "(28, 27)"
      ]
     },
     "execution_count": 54,
     "metadata": {},
     "output_type": "execute_result"
    }
   ],
   "source": [
    "data.shape"
   ]
  },
  {
   "cell_type": "code",
   "execution_count": 55,
   "id": "9c1ec98d-076c-42e3-af15-0ce918324516",
   "metadata": {},
   "outputs": [
    {
     "data": {
      "text/plain": [
       "fueltype\n",
       "gas                                                                                                       4\n",
       "gasgas                                                                                                    3\n",
       "gasgasgas                                                                                                 3\n",
       "gasgasgasgasgasgasgas                                                                                     2\n",
       "gasgasgasgasgasgasgasgasgasgasgasgasgas                                                                   2\n",
       "gasgasgasgas                                                                                              2\n",
       "gasgasgasgasgasgas                                                                                        1\n",
       "gasdieselgasgasdieselgasgasdieselgas                                                                      1\n",
       "diesel                                                                                                    1\n",
       "gasgasgasgasgasgasgasgasdieseldieselgasgasgasgasgasgasgasgasgasgasgasgasgasgasdieselgasgasgasgasgasgas    1\n",
       "gasgasgasgasgasgasgasgasgasgasgasgas                                                                      1\n",
       "gasgasgasgasgasgasgasgasgasgasgasdieselgasgasdiesel                                                       1\n",
       "gasdieselgasdieselgasdieselgasdieselgasdieselgas                                                          1\n",
       "dieselgasgasgasgasgasgasgasgasgasgasgasgasgasgasgasgas                                                    1\n",
       "gasgasgasgasgasgasgasgasgas                                                                               1\n",
       "dieseldieseldieseldieselgasgasgasgas                                                                      1\n",
       "gasgasgasgasgasgasgasgas                                                                                  1\n",
       "gasgasgasgasgasgasgasgasgasdieselgas                                                                      1\n",
       "Name: count, dtype: int64"
      ]
     },
     "execution_count": 55,
     "metadata": {},
     "output_type": "execute_result"
    }
   ],
   "source": [
    "data.fueltype.value_counts()"
   ]
  },
  {
   "cell_type": "code",
   "execution_count": 56,
   "id": "dfea200b-7fdd-45d2-bded-997613760208",
   "metadata": {},
   "outputs": [
    {
     "data": {
      "text/plain": [
       "0                                                   gas\n",
       "1                                             gasgasgas\n",
       "2                                 gasgasgasgasgasgasgas\n",
       "3                              gasgasgasgasgasgasgasgas\n",
       "4                  dieseldieseldieseldieselgasgasgasgas\n",
       "5                                             gasgasgas\n",
       "6                           gasgasgasgasgasgasgasgasgas\n",
       "7               gasgasgasgasgasgasgasgasgasgasgasgasgas\n",
       "8                                          gasgasgasgas\n",
       "9                                             gasgasgas\n",
       "10                                               gasgas\n",
       "11    gasgasgasgasgasgasgasgasgasgasgasdieselgasgasd...\n",
       "12                                                  gas\n",
       "13              gasgasgasgasgasgasgasgasgasgasgasgasgas\n",
       "14    dieselgasgasgasgasgasgasgasgasgasgasgasgasgasg...\n",
       "15     gasdieselgasdieselgasdieselgasdieselgasdieselgas\n",
       "16                                gasgasgasgasgasgasgas\n",
       "17                                                  gas\n",
       "18                                         gasgasgasgas\n",
       "19                                               gasgas\n",
       "Name: fueltype, dtype: object"
      ]
     },
     "execution_count": 56,
     "metadata": {},
     "output_type": "execute_result"
    }
   ],
   "source": [
    "data.fueltype.head(20)"
   ]
  },
  {
   "cell_type": "code",
   "execution_count": 57,
   "id": "1914e0fb-351c-4999-b9e9-1d9eca37a560",
   "metadata": {},
   "outputs": [],
   "source": [
    "def categorize_fueltype(fuel_type):\n",
    "  if \"gas\" in fuel_type and \"diesel\" not in fuel_type:  # Check for \"gas\" first, then \"diesel\"\n",
    "    return \"Gas\"\n",
    "  elif \"gasdiesel\" in fuel_type:\n",
    "    return \"Gas\"\n",
    "  else:\n",
    "    return \"Diesel\""
   ]
  },
  {
   "cell_type": "code",
   "execution_count": 93,
   "id": "6cf0329e-cde9-4aa5-b5c0-420759e4e584",
   "metadata": {},
   "outputs": [
    {
     "data": {
      "image/png": "[encoded data removed]",
      "text/plain": [
       "<Figure size 500x500 with 1 Axes>"
      ]
     },
     "metadata": {},
     "output_type": "display_data"
    }
   ],
   "source": [
    "channel_counts = data['fueltype'].value_counts()\n",
    "\n",
    "# Create a pie chart using matplotlib\n",
    "plt.figure(figsize=(5, 5))\n",
    "plt.pie(channel_counts, labels=channel_counts.index, autopct='%1.1f%%', startangle=140)\n",
    "plt.title('Fuel Systems', y=1.1)\n",
    "plt.axis('equal')  # Equal aspect ratio ensures that pie is drawn as a circle.\n",
    "plt.show()\n"
   ]
  },
  {
   "cell_type": "code",
   "execution_count": 60,
   "id": "564f767f-d1d8-451d-9ad7-02bc7d1069f5",
   "metadata": {},
   "outputs": [
    {
     "data": {
      "text/plain": [
       "aspiration\n",
       "std                                                                                                4\n",
       "stdstd                                                                                             3\n",
       "stdstdstd                                                                                          3\n",
       "stdstdstdstd                                                                                       2\n",
       "stdstdstdstdstdstdstdstdstdstdstdstdstdstdstdturbostd                                              1\n",
       "stdstdstdstdturbostdstdturbostd                                                                    1\n",
       "stdstdstdstdstdstdstdstdstdstdstdstdstdstdstdstdstdstdstdstdstdstdstdstdturbostdstdstdstdstdstd    1\n",
       "stdstdstdstdstdstdstdturbostdstdstdturbo                                                           1\n",
       "stdstdstdstdturboturbo                                                                             1\n",
       "stdturbostdstdstdstdturbo                                                                          1\n",
       "stdturbostdturbostdturbostdturbostdturboturbo                                                      1\n",
       "turbo                                                                                              1\n",
       "stdstdstdturboturbostdturboturboturbostdstdturbostd                                                1\n",
       "stdstdstdstdstdstdstdstdstdstdstdstdstdstdstd                                                      1\n",
       "stdstdstdstdstdstdstdstdstdstdstdstdstd                                                            1\n",
       "stdstdturbostdstdstdturbostdturbo                                                                  1\n",
       "turboturboturboturbostdstdstdstd                                                                   1\n",
       "stdstdstdstdstdstdstdstd                                                                           1\n",
       "stdstdstdstdstdturboturbo                                                                          1\n",
       "stdstdstdstdturboturbostdturbostdturboturbo                                                        1\n",
       "Name: count, dtype: int64"
      ]
     },
     "execution_count": 60,
     "metadata": {},
     "output_type": "execute_result"
    }
   ],
   "source": [
    "data.aspiration\t.value_counts()"
   ]
  },
  {
   "cell_type": "code",
   "execution_count": 61,
   "id": "a37aab3e-9188-41f8-9f13-fa5a7657aad9",
   "metadata": {},
   "outputs": [
    {
     "data": {
      "text/plain": [
       "aspiration\n",
       "Std      26\n",
       "Turbo     2\n",
       "Name: count, dtype: int64"
      ]
     },
     "execution_count": 61,
     "metadata": {},
     "output_type": "execute_result"
    }
   ],
   "source": [
    "def categorize_aspiration(aspiration_type):\n",
    "  if \"turbo\" not in aspiration_type:\n",
    "    return \"Std\"\n",
    "  elif \"stdturbo\" in aspiration_type:\n",
    "      return \"Std\"\n",
    "  elif 'turbo' in aspiration_type:\n",
    "    return \"Turbo\"\n",
    "  else:\n",
    "      return 'Std'\n",
    "\n",
    "data['aspiration'] = data['aspiration'].apply(categorize_aspiration)\n",
    "data['aspiration'].value_counts()"
   ]
  },
  {
   "cell_type": "code",
   "execution_count": 92,
   "id": "d11f65b2-6a20-43a7-b06a-4ef3ad6e0cdb",
   "metadata": {},
   "outputs": [
    {
     "data": {
      "image/png": "[encoded data removed]",
      "text/plain": [
       "<Figure size 500x500 with 1 Axes>"
      ]
     },
     "metadata": {},
     "output_type": "display_data"
    }
   ],
   "source": [
    "channel_counts = data['aspiration'].value_counts()\n",
    "\n",
    "plt.figure(figsize=(5, 5))\n",
    "plt.pie(channel_counts, labels=channel_counts.index, autopct='%1.1f%%', startangle=140)\n",
    "plt.title('Aspirations', y=1.1)\n",
    "plt.axis('equal')  # Equal aspect ratio ensures that pie is drawn as a circle.\n",
    "plt.show()\n"
   ]
  },
  {
   "cell_type": "code",
   "execution_count": 62,
   "id": "c5fa5262-7763-4a9b-ac57-cf0fd3244386",
   "metadata": {},
   "outputs": [
    {
     "data": {
      "text/plain": [
       "doornumber\n",
       "two                                                                                                               4\n",
       "fourfourfourfourfourfourfourfourfourfourfour                                                                      2\n",
       "twotwo                                                                                                            2\n",
       "twotwotwotwotwotwotwotwotwofourfourfourfour                                                                       1\n",
       "four                                                                                                              1\n",
       "twotwofourfourfourfourfourfourfourfourfourfourfourtwotwotwotwotwotwotwotwotwotwofourfourfourfourfourtwotwofour    1\n",
       "twotwotwofourfourfourfourfourfourfourfourfour                                                                     1\n",
       "twofourtwofourtwofour                                                                                             1\n",
       "fourtwo                                                                                                           1\n",
       "twotwotwotwo                                                                                                      1\n",
       "twotwofourfourfourfourtwo                                                                                         1\n",
       "twotwofourfourtwotwofourfourtwofourfourfourfourfourtwotwotwo                                                      1\n",
       "twofourfourtwotwotwotwotwofourtwofourfourfourfourfour                                                             1\n",
       "twotwotwo                                                                                                         1\n",
       "fourfourtwo                                                                                                       1\n",
       "fourtwofourtwo                                                                                                    1\n",
       "twotwotwotwotwofourfourtwotwofourfourfourtwo                                                                      1\n",
       "twotwotwofourfourfourtwofourtwo                                                                                   1\n",
       "twotwofour                                                                                                        1\n",
       "fourfourtwofourfourtwofourtwo                                                                                     1\n",
       "twofourtwofourfourfourtwofour                                                                                     1\n",
       "fourfourtwofourfourfourtwo                                                                                        1\n",
       "twofourfourfourfourfourfourfourfour                                                                               1\n",
       "Name: count, dtype: int64"
      ]
     },
     "execution_count": 62,
     "metadata": {},
     "output_type": "execute_result"
    }
   ],
   "source": [
    "data.doornumber.value_counts()"
   ]
  },
  {
   "cell_type": "code",
   "execution_count": 63,
   "id": "f8b1d472-4559-4a11-94b1-dd34feb4dd43",
   "metadata": {},
   "outputs": [
    {
     "name": "stdout",
     "output_type": "stream",
     "text": [
      "doornumber\n",
      "2    25\n",
      "4     3\n",
      "Name: count, dtype: int64\n"
     ]
    }
   ],
   "source": [
    "def categorize_doornumber(doornumber_type):\n",
    "    if doornumber_type is None:\n",
    "        return None  # Return None if the value is None\n",
    "    if 'two' in doornumber_type and 'four' not in doornumber_type:\n",
    "        return 2\n",
    "    elif 'twofour' in doornumber_type:\n",
    "        return 2\n",
    "    elif 'four' in doornumber_type and 'two' not in doornumber_type:\n",
    "        return 4\n",
    "    else:\n",
    "        return 2\n",
    "\n",
    "\n",
    "data['doornumber'] = data['doornumber'].apply(categorize_doornumber)\n",
    "\n",
    "print(data['doornumber'].value_counts())\n"
   ]
  },
  {
   "cell_type": "code",
   "execution_count": 64,
   "id": "29958031-d916-4bb5-aacf-91f4cd87bb7e",
   "metadata": {},
   "outputs": [
    {
     "data": {
      "text/plain": [
       "carbody\n",
       "sedan                                                                                                                                                                                                                              2\n",
       "sedansedansedanwagonsedanhatchbacksedanwagonhardtophatchbacksedansedanwagonsedanhatchbackhatchbackhatchback                                                                                                                        1\n",
       "sedanwagonsedanwagonsedanwagonsedansedansedansedansedan                                                                                                                                                                            1\n",
       "sedansedansedansedansedansedansedansedanwagon                                                                                                                                                                                      1\n",
       "wagon                                                                                                                                                                                                                              1\n",
       "hatchbackhatchbackhatchbackwagonwagonwagonsedanhatchbacksedanhatchbacksedanhatchbacksedansedanhatchbacksedanhatchbackhardtophardtophatchbackhardtophatchbackconvertiblesedansedanhatchbacksedanhatchbackhatchbackhatchbacksedan    1\n",
       "hatchbackhatchbackhatchbacksedansedansedansedansedanwagonwagonwagonwagon                                                                                                                                                           1\n",
       "hatchbacksedanhatchbacksedanhatchbacksedan                                                                                                                                                                                         1\n",
       "wagonhatchback                                                                                                                                                                                                                     1\n",
       "hatchbackhardtopconvertiblehatchback                                                                                                                                                                                               1\n",
       "hardtop                                                                                                                                                                                                                            1\n",
       "hatchbackhatchbackhatchbacksedansedanwagonhatchback                                                                                                                                                                                1\n",
       "sedansedanwagonwagonsedansedanwagonwagonsedansedansedan                                                                                                                                                                            1\n",
       "hatchbackhatchbackhatchbackhatchbackhatchbackhatchbackhatchbackhatchbackhatchbacksedansedansedansedan                                                                                                                              1\n",
       "convertibleconvertiblehatchback                                                                                                                                                                                                    1\n",
       "hatchback                                                                                                                                                                                                                          1\n",
       "hatchbacksedansedanhatchbackhatchbackhatchbackhatchbackhatchbacksedanhatchbacksedansedanhatchbacksedansedan                                                                                                                        1\n",
       "hatchbackhatchback                                                                                                                                                                                                                 1\n",
       "sedansedansedan                                                                                                                                                                                                                    1\n",
       "sedansedansedanhatchback                                                                                                                                                                                                           1\n",
       "hatchbackhatchbackhatchbackhatchbackhatchbacksedanwagonhatchbackhatchbacksedansedansedansedan                                                                                                                                      1\n",
       "hatchbackhatchbackhatchbackhatchbacksedansedansedanwagonhatchback                                                                                                                                                                  1\n",
       "hatchbackhatchbacksedan                                                                                                                                                                                                            1\n",
       "sedanwagonhardtopsedansedanconvertiblesedanhardtop                                                                                                                                                                                 1\n",
       "sedansedansedansedansedansedansedansedan                                                                                                                                                                                           1\n",
       "sedansedansedansedanwagonsedanhatchback                                                                                                                                                                                            1\n",
       "convertiblehatchback                                                                                                                                                                                                               1\n",
       "Name: count, dtype: int64"
      ]
     },
     "execution_count": 64,
     "metadata": {},
     "output_type": "execute_result"
    }
   ],
   "source": [
    "data.carbody.value_counts()"
   ]
  },
  {
   "cell_type": "code",
   "execution_count": 65,
   "id": "fe1c5504-914c-4c2e-a58f-adcd09207c93",
   "metadata": {},
   "outputs": [
    {
     "name": "stdout",
     "output_type": "stream",
     "text": [
      "carbody\n",
      "Hatchback      12\n",
      "Sedan          11\n",
      "Convertible     2\n",
      "Wagon           2\n",
      "Hardtop         1\n",
      "Name: count, dtype: int64\n"
     ]
    }
   ],
   "source": [
    "def categorize_carbody(carbody_type):\n",
    "    if carbody_type is None:\n",
    "        return None  # Return None if the value is None\n",
    "    if 'sedan' in carbody_type[:5]:\n",
    "        return 'Sedan'\n",
    "    elif 'wagon'in carbody_type[:5]:\n",
    "        return 'Wagon'\n",
    "    elif 'hatchback' in carbody_type[:9]:\n",
    "        return 'Hatchback'\n",
    "    elif 'hardtop' in carbody_type[:9]:\n",
    "        return 'Hardtop'\n",
    "    elif 'convertible' in carbody_type[:12]:\n",
    "        return 'Convertible'\n",
    "    else:\n",
    "        return 'Hatchback'\n",
    "\n",
    "data['carbody'] = data['carbody'].apply(categorize_carbody)\n",
    "\n",
    "print(data['carbody'].value_counts())\n"
   ]
  },
  {
   "cell_type": "code",
   "execution_count": 91,
   "id": "26b2bea8-fa35-4bf5-a7a0-bca1f37fb70a",
   "metadata": {},
   "outputs": [
    {
     "data": {
      "image/png": "[encoded data removed]",
      "text/plain": [
       "<Figure size 500x500 with 1 Axes>"
      ]
     },
     "metadata": {},
     "output_type": "display_data"
    }
   ],
   "source": [
    "import matplotlib.pyplot as plt\n",
    "\n",
    "channel_counts = data['carbody'].value_counts()\n",
    "\n",
    "# Create a pie chart using matplotlib\n",
    "plt.figure(figsize=(5, 5))\n",
    "plt.pie(channel_counts, labels=channel_counts.index, autopct='%1.1f%%', startangle=140)\n",
    "plt.title('Carbody types', y=1.1)\n",
    "plt.axis('equal')  # Equal aspect ratio ensures that pie is drawn as a circle.\n",
    "plt.show()\n"
   ]
  },
  {
   "cell_type": "code",
   "execution_count": 66,
   "id": "71ac3af0-0510-4196-9484-ce9fdddd8f79",
   "metadata": {},
   "outputs": [
    {
     "data": {
      "text/plain": [
       "drivewheel\n",
       "fwdfwd                                                                                           3\n",
       "rwd                                                                                              3\n",
       "fwd                                                                                              2\n",
       "rwdrwdrwdrwdrwdrwdrwdrwdrwdrwdrwd                                                                2\n",
       "rwdrwdrwdrwdrwdrwdrwdrwd                                                                         2\n",
       "fwdfwdfwdfwdfwdfwdfwdfwdfwd                                                                      2\n",
       "fwdfwdfwdfwdfwdfwdfwdfwdfwdfwdfwdfwdfwd                                                          2\n",
       "rwdrwdrwd                                                                                        2\n",
       "fwdfwd4wdfwdfwdfwd4wd4wdfwdfwd4wd4wd                                                             1\n",
       "fwdfwdfwdfwdfwdfwd                                                                               1\n",
       "rwdrwdrwdrwd                                                                                     1\n",
       "fwdfwdfwdfwdfwdfwdrwd                                                                            1\n",
       "fwdfwdfwdrwdrwdrwdrwdfwdfwdfwdfwdfwdfwdrwdrwd                                                    1\n",
       "fwdfwdfwdfwdfwdfwdfwdfwdfwdfwdfwdfwdfwdfwdrwdrwdrwd                                              1\n",
       "rwdfwdfwdrwd                                                                                     1\n",
       "fwdfwdfwd                                                                                        1\n",
       "fwd4wdfwdfwdfwdfwd4wd                                                                            1\n",
       "fwdfwdfwdfwd4wd4wdfwdfwdfwdfwdfwdfwdfwdrwdrwdrwdrwdrwdrwdrwdrwdrwdrwdfwdfwdfwdfwdfwdrwdrwdrwd    1\n",
       "Name: count, dtype: int64"
      ]
     },
     "execution_count": 66,
     "metadata": {},
     "output_type": "execute_result"
    }
   ],
   "source": [
    "data.drivewheel.value_counts()"
   ]
  },
  {
   "cell_type": "code",
   "execution_count": 67,
   "id": "0e342509-3800-4ec4-9928-993b862d4b9e",
   "metadata": {},
   "outputs": [
    {
     "name": "stdout",
     "output_type": "stream",
     "text": [
      "drivewheel\n",
      "Front Wheel Drive    18\n",
      "Rear Wheel Drive     10\n",
      "Name: count, dtype: int64\n"
     ]
    }
   ],
   "source": [
    "def categorize_arbody(carbody_type):\n",
    "    if carbody_type is None:\n",
    "        return None  # Return None if the value is None\n",
    "    if 'fwd' in carbody_type and 'rwd'not in carbody_type:\n",
    "        return 'Front Wheel Drive'\n",
    "    elif 'rwd'in carbody_type and 'fwd' not in carbody_type:\n",
    "        return 'Rear Wheel Drive'\n",
    "    else:\n",
    "        return 'Front Wheel Drive'\n",
    "\n",
    "data['drivewheel'] = data['drivewheel'].apply(categorize_arbody)\n",
    "\n",
    "print(data['drivewheel'].value_counts())\n"
   ]
  },
  {
   "cell_type": "code",
   "execution_count": 90,
   "id": "152c4c09-a20a-4bf7-9066-123219eb8d99",
   "metadata": {},
   "outputs": [
    {
     "data": {
      "image/png": "[encoded data removed]",
      "text/plain": [
       "<Figure size 500x500 with 1 Axes>"
      ]
     },
     "metadata": {},
     "output_type": "display_data"
    }
   ],
   "source": [
    "import matplotlib.pyplot as plt\n",
    "\n",
    "channel_counts = data['drivewheel'].value_counts()\n",
    "\n",
    "# Create a pie chart using matplotlib\n",
    "plt.figure(figsize=(5, 5))\n",
    "plt.pie(channel_counts, labels=channel_counts.index, autopct='%1.1f%%', startangle=140)\n",
    "plt.title('Drivewheel', y=1.1)\n",
    "plt.axis('equal')  # Equal aspect ratio ensures that pie is drawn as a circle.\n",
    "plt.show()\n"
   ]
  },
  {
   "cell_type": "code",
   "execution_count": 68,
   "id": "f90f5223-878b-4b1f-ae9f-88a631c07c9d",
   "metadata": {},
   "outputs": [
    {
     "data": {
      "text/plain": [
       "enginelocation\n",
       "front                                                                                                                                                          4\n",
       "frontfrontfront                                                                                                                                                3\n",
       "frontfront                                                                                                                                                     3\n",
       "frontfrontfrontfrontfrontfrontfront                                                                                                                            2\n",
       "frontfrontfrontfrontfrontfrontfrontfront                                                                                                                       2\n",
       "frontfrontfrontfrontfrontfrontfrontfrontfront                                                                                                                  2\n",
       "frontfrontfrontfrontfrontfrontfrontfrontfrontfrontfrontfrontfront                                                                                              2\n",
       "frontfrontfrontfrontfrontfrontfrontfrontfrontfrontfront                                                                                                        2\n",
       "frontfrontfrontfront                                                                                                                                           1\n",
       "frontfrontfrontfrontfrontfrontfrontfrontfrontfrontfrontfrontfrontfrontfront                                                                                    1\n",
       "frontfrontfrontfrontfrontfrontfrontfrontfrontfrontfrontfrontfrontfrontfrontfrontfront                                                                          1\n",
       "rear                                                                                                                                                           1\n",
       "frontrearrearfront                                                                                                                                             1\n",
       "frontfrontfrontfrontfrontfront                                                                                                                                 1\n",
       "frontfrontfrontfrontfrontfrontfrontfrontfrontfrontfrontfront                                                                                                   1\n",
       "frontfrontfrontfrontfrontfrontfrontfrontfrontfrontfrontfrontfrontfrontfrontfrontfrontfrontfrontfrontfrontfrontfrontfrontfrontfrontfrontfrontfrontfrontfront    1\n",
       "Name: count, dtype: int64"
      ]
     },
     "execution_count": 68,
     "metadata": {},
     "output_type": "execute_result"
    }
   ],
   "source": [
    "data.enginelocation.value_counts()"
   ]
  },
  {
   "cell_type": "code",
   "execution_count": 69,
   "id": "a4eae3f8-2fa4-4a33-a9d0-5260e1fc301c",
   "metadata": {},
   "outputs": [
    {
     "name": "stdout",
     "output_type": "stream",
     "text": [
      "enginelocation\n",
      "1    27\n",
      "0     1\n",
      "Name: count, dtype: int64\n"
     ]
    }
   ],
   "source": [
    "def egorize_carbody(carbody_type):\n",
    "    if carbody_type is None:\n",
    "        return None \n",
    "    if 'front' in carbody_type[:6]:\n",
    "        return 1\n",
    "    elif 'rear'in carbody_type[:6]:\n",
    "        return 0\n",
    "        \n",
    "data['enginelocation'] = data['enginelocation'].apply(egorize_carbody)\n",
    "\n",
    "print(data['enginelocation'].value_counts())\n"
   ]
  },
  {
   "cell_type": "code",
   "execution_count": 70,
   "id": "cdf6e72a-3e10-4f2e-93aa-0e386d4eede0",
   "metadata": {},
   "outputs": [],
   "source": [
    "data.rename(columns={'enginelocation': 'Front Engine'}, inplace=True)"
   ]
  },
  {
   "cell_type": "code",
   "execution_count": 71,
   "id": "bb609844-f991-4ffa-81bd-09963024e2b0",
   "metadata": {},
   "outputs": [
    {
     "data": {
      "text/plain": [
       "Company              object\n",
       "car_ID                int64\n",
       "symboling             int64\n",
       "CarName              object\n",
       "fueltype             object\n",
       "aspiration           object\n",
       "doornumber            int64\n",
       "carbody              object\n",
       "drivewheel           object\n",
       "Front Engine          int64\n",
       "wheelbase           float64\n",
       "carlength           float64\n",
       "carwidth            float64\n",
       "carheight           float64\n",
       "curbweight            int64\n",
       "enginetype           object\n",
       "cylindernumber       object\n",
       "enginesize            int64\n",
       "fuelsystem           object\n",
       "boreratio           float64\n",
       "stroke              float64\n",
       "compressionratio    float64\n",
       "horsepower            int64\n",
       "peakrpm               int64\n",
       "citympg               int64\n",
       "highwaympg            int64\n",
       "price               float64\n",
       "dtype: object"
      ]
     },
     "execution_count": 71,
     "metadata": {},
     "output_type": "execute_result"
    }
   ],
   "source": [
    "data.dtypes"
   ]
  },
  {
   "cell_type": "markdown",
   "id": "fa72cf7f-aea3-44bc-b257-125d28f772fa",
   "metadata": {},
   "source": [
    "# Building Model"
   ]
  },
  {
   "cell_type": "code",
   "execution_count": 72,
   "id": "d2bd2cfb-1164-445a-b7d4-4b54ba534ac9",
   "metadata": {},
   "outputs": [
    {
     "data": {
      "text/plain": [
       "Index(['Company', 'CarName', 'fueltype', 'carbody', 'drivewheel',\n",
       "       'horsepower'],\n",
       "      dtype='object')"
      ]
     },
     "execution_count": 72,
     "metadata": {},
     "output_type": "execute_result"
    }
   ],
   "source": [
    "X=data[['Company','CarName', 'fueltype','carbody', 'drivewheel','horsepower']]\n",
    "X.columns"
   ]
  },
  {
   "cell_type": "code",
   "execution_count": 73,
   "id": "4b1b848d-df20-407a-9321-bd0208ad73c0",
   "metadata": {},
   "outputs": [],
   "source": [
    "y=data['price']"
   ]
  },
  {
   "cell_type": "code",
   "execution_count": 74,
   "id": "232de50c-8e26-447a-9ee8-1c9438119b7a",
   "metadata": {},
   "outputs": [],
   "source": [
    "from sklearn.model_selection import train_test_split\n",
    "X_train, X_test, y_train, y_test = train_test_split(X, y, test_size=0.2, random_state=42)"
   ]
  },
  {
   "cell_type": "code",
   "execution_count": 75,
   "id": "832f5210-8d0d-485b-b494-506602ef6dd2",
   "metadata": {},
   "outputs": [
    {
     "data": {
      "text/html": [
       "<style>#sk-container-id-3 {color: black;}#sk-container-id-3 pre{padding: 0;}#sk-container-id-3 div.sk-toggleable {background-color: white;}#sk-container-id-3 label.sk-toggleable__label {cursor: pointer;display: block;width: 100%;margin-bottom: 0;padding: 0.3em;box-sizing: border-box;text-align: center;}#sk-container-id-3 label.sk-toggleable__label-arrow:before {content: \"▸\";float: left;margin-right: 0.25em;color: #696969;}#sk-container-id-3 label.sk-toggleable__label-arrow:hover:before {color: black;}#sk-container-id-3 div.sk-estimator:hover label.sk-toggleable__label-arrow:before {color: black;}#sk-container-id-3 div.sk-toggleable__content {max-height: 0;max-width: 0;overflow: hidden;text-align: left;background-color: #f0f8ff;}#sk-container-id-3 div.sk-toggleable__content pre {margin: 0.2em;color: black;border-radius: 0.25em;background-color: #f0f8ff;}#sk-container-id-3 input.sk-toggleable__control:checked~div.sk-toggleable__content {max-height: 200px;max-width: 100%;overflow: auto;}#sk-container-id-3 input.sk-toggleable__control:checked~label.sk-toggleable__label-arrow:before {content: \"▾\";}#sk-container-id-3 div.sk-estimator input.sk-toggleable__control:checked~label.sk-toggleable__label {background-color: #d4ebff;}#sk-container-id-3 div.sk-label input.sk-toggleable__control:checked~label.sk-toggleable__label {background-color: #d4ebff;}#sk-container-id-3 input.sk-hidden--visually {border: 0;clip: rect(1px 1px 1px 1px);clip: rect(1px, 1px, 1px, 1px);height: 1px;margin: -1px;overflow: hidden;padding: 0;position: absolute;width: 1px;}#sk-container-id-3 div.sk-estimator {font-family: monospace;background-color: #f0f8ff;border: 1px dotted black;border-radius: 0.25em;box-sizing: border-box;margin-bottom: 0.5em;}#sk-container-id-3 div.sk-estimator:hover {background-color: #d4ebff;}#sk-container-id-3 div.sk-parallel-item::after {content: \"\";width: 100%;border-bottom: 1px solid gray;flex-grow: 1;}#sk-container-id-3 div.sk-label:hover label.sk-toggleable__label {background-color: #d4ebff;}#sk-container-id-3 div.sk-serial::before {content: \"\";position: absolute;border-left: 1px solid gray;box-sizing: border-box;top: 0;bottom: 0;left: 50%;z-index: 0;}#sk-container-id-3 div.sk-serial {display: flex;flex-direction: column;align-items: center;background-color: white;padding-right: 0.2em;padding-left: 0.2em;position: relative;}#sk-container-id-3 div.sk-item {position: relative;z-index: 1;}#sk-container-id-3 div.sk-parallel {display: flex;align-items: stretch;justify-content: center;background-color: white;position: relative;}#sk-container-id-3 div.sk-item::before, #sk-container-id-3 div.sk-parallel-item::before {content: \"\";position: absolute;border-left: 1px solid gray;box-sizing: border-box;top: 0;bottom: 0;left: 50%;z-index: -1;}#sk-container-id-3 div.sk-parallel-item {display: flex;flex-direction: column;z-index: 1;position: relative;background-color: white;}#sk-container-id-3 div.sk-parallel-item:first-child::after {align-self: flex-end;width: 50%;}#sk-container-id-3 div.sk-parallel-item:last-child::after {align-self: flex-start;width: 50%;}#sk-container-id-3 div.sk-parallel-item:only-child::after {width: 0;}#sk-container-id-3 div.sk-dashed-wrapped {border: 1px dashed gray;margin: 0 0.4em 0.5em 0.4em;box-sizing: border-box;padding-bottom: 0.4em;background-color: white;}#sk-container-id-3 div.sk-label label {font-family: monospace;font-weight: bold;display: inline-block;line-height: 1.2em;}#sk-container-id-3 div.sk-label-container {text-align: center;}#sk-container-id-3 div.sk-container {/* jupyter's `normalize.less` sets `[hidden] { display: none; }` but bootstrap.min.css set `[hidden] { display: none !important; }` so we also need the `!important` here to be able to override the default hidden behavior on the sphinx rendered scikit-learn.org. See: https://github.com/scikit-learn/scikit-learn/issues/21755 */display: inline-block !important;position: relative;}#sk-container-id-3 div.sk-text-repr-fallback {display: none;}</style><div id=\"sk-container-id-3\" class=\"sk-top-container\"><div class=\"sk-text-repr-fallback\"><pre>OneHotEncoder()</pre><b>In a Jupyter environment, please rerun this cell to show the HTML representation or trust the notebook. <br />On GitHub, the HTML representation is unable to render, please try loading this page with nbviewer.org.</b></div><div class=\"sk-container\" hidden><div class=\"sk-item\"><div class=\"sk-estimator sk-toggleable\"><input class=\"sk-toggleable__control sk-hidden--visually\" id=\"sk-estimator-id-9\" type=\"checkbox\" checked><label for=\"sk-estimator-id-9\" class=\"sk-toggleable__label sk-toggleable__label-arrow\">OneHotEncoder</label><div class=\"sk-toggleable__content\"><pre>OneHotEncoder()</pre></div></div></div></div></div>"
      ],
      "text/plain": [
       "OneHotEncoder()"
      ]
     },
     "execution_count": 75,
     "metadata": {},
     "output_type": "execute_result"
    }
   ],
   "source": [
    "from sklearn.linear_model import LinearRegression\n",
    "from sklearn.metrics import r2_score\n",
    "from sklearn.preprocessing import OneHotEncoder\n",
    "from sklearn.compose import make_column_transformer\n",
    "from sklearn.pipeline import make_pipeline \n",
    "ohe=OneHotEncoder()\n",
    "ohe.fit(X[['Company','CarName', 'fueltype','carbody','drivewheel']])"
   ]
  },
  {
   "cell_type": "code",
   "execution_count": 76,
   "id": "21cf862d-f79d-41cc-b1b7-86c6d07cda44",
   "metadata": {},
   "outputs": [],
   "source": [
    "column_trans = make_column_transformer(\n",
    "    (OneHotEncoder(categories=ohe.categories_), ['Company', 'CarName', 'fueltype', 'carbody', 'drivewheel']),  # Corrected column names\n",
    "    remainder='passthrough'\n",
    ")"
   ]
  },
  {
   "cell_type": "code",
   "execution_count": 77,
   "id": "51e76e35-f5d1-4a62-9204-eaefa5606de7",
   "metadata": {},
   "outputs": [],
   "source": [
    "lr=LinearRegression()"
   ]
  },
  {
   "cell_type": "code",
   "execution_count": 78,
   "id": "c0a17425-fb10-4124-a0d4-9ccd2c7db381",
   "metadata": {},
   "outputs": [
    {
     "data": {
      "text/html": [
       "<style>#sk-container-id-4 {color: black;}#sk-container-id-4 pre{padding: 0;}#sk-container-id-4 div.sk-toggleable {background-color: white;}#sk-container-id-4 label.sk-toggleable__label {cursor: pointer;display: block;width: 100%;margin-bottom: 0;padding: 0.3em;box-sizing: border-box;text-align: center;}#sk-container-id-4 label.sk-toggleable__label-arrow:before {content: \"▸\";float: left;margin-right: 0.25em;color: #696969;}#sk-container-id-4 label.sk-toggleable__label-arrow:hover:before {color: black;}#sk-container-id-4 div.sk-estimator:hover label.sk-toggleable__label-arrow:before {color: black;}#sk-container-id-4 div.sk-toggleable__content {max-height: 0;max-width: 0;overflow: hidden;text-align: left;background-color: #f0f8ff;}#sk-container-id-4 div.sk-toggleable__content pre {margin: 0.2em;color: black;border-radius: 0.25em;background-color: #f0f8ff;}#sk-container-id-4 input.sk-toggleable__control:checked~div.sk-toggleable__content {max-height: 200px;max-width: 100%;overflow: auto;}#sk-container-id-4 input.sk-toggleable__control:checked~label.sk-toggleable__label-arrow:before {content: \"▾\";}#sk-container-id-4 div.sk-estimator input.sk-toggleable__control:checked~label.sk-toggleable__label {background-color: #d4ebff;}#sk-container-id-4 div.sk-label input.sk-toggleable__control:checked~label.sk-toggleable__label {background-color: #d4ebff;}#sk-container-id-4 input.sk-hidden--visually {border: 0;clip: rect(1px 1px 1px 1px);clip: rect(1px, 1px, 1px, 1px);height: 1px;margin: -1px;overflow: hidden;padding: 0;position: absolute;width: 1px;}#sk-container-id-4 div.sk-estimator {font-family: monospace;background-color: #f0f8ff;border: 1px dotted black;border-radius: 0.25em;box-sizing: border-box;margin-bottom: 0.5em;}#sk-container-id-4 div.sk-estimator:hover {background-color: #d4ebff;}#sk-container-id-4 div.sk-parallel-item::after {content: \"\";width: 100%;border-bottom: 1px solid gray;flex-grow: 1;}#sk-container-id-4 div.sk-label:hover label.sk-toggleable__label {background-color: #d4ebff;}#sk-container-id-4 div.sk-serial::before {content: \"\";position: absolute;border-left: 1px solid gray;box-sizing: border-box;top: 0;bottom: 0;left: 50%;z-index: 0;}#sk-container-id-4 div.sk-serial {display: flex;flex-direction: column;align-items: center;background-color: white;padding-right: 0.2em;padding-left: 0.2em;position: relative;}#sk-container-id-4 div.sk-item {position: relative;z-index: 1;}#sk-container-id-4 div.sk-parallel {display: flex;align-items: stretch;justify-content: center;background-color: white;position: relative;}#sk-container-id-4 div.sk-item::before, #sk-container-id-4 div.sk-parallel-item::before {content: \"\";position: absolute;border-left: 1px solid gray;box-sizing: border-box;top: 0;bottom: 0;left: 50%;z-index: -1;}#sk-container-id-4 div.sk-parallel-item {display: flex;flex-direction: column;z-index: 1;position: relative;background-color: white;}#sk-container-id-4 div.sk-parallel-item:first-child::after {align-self: flex-end;width: 50%;}#sk-container-id-4 div.sk-parallel-item:last-child::after {align-self: flex-start;width: 50%;}#sk-container-id-4 div.sk-parallel-item:only-child::after {width: 0;}#sk-container-id-4 div.sk-dashed-wrapped {border: 1px dashed gray;margin: 0 0.4em 0.5em 0.4em;box-sizing: border-box;padding-bottom: 0.4em;background-color: white;}#sk-container-id-4 div.sk-label label {font-family: monospace;font-weight: bold;display: inline-block;line-height: 1.2em;}#sk-container-id-4 div.sk-label-container {text-align: center;}#sk-container-id-4 div.sk-container {/* jupyter's `normalize.less` sets `[hidden] { display: none; }` but bootstrap.min.css set `[hidden] { display: none !important; }` so we also need the `!important` here to be able to override the default hidden behavior on the sphinx rendered scikit-learn.org. See: https://github.com/scikit-learn/scikit-learn/issues/21755 */display: inline-block !important;position: relative;}#sk-container-id-4 div.sk-text-repr-fallback {display: none;}</style><div id=\"sk-container-id-4\" class=\"sk-top-container\"><div class=\"sk-text-repr-fallback\"><pre>Pipeline(steps=[(&#x27;columntransformer&#x27;,\n",
       "                 ColumnTransformer(remainder=&#x27;passthrough&#x27;,\n",
       "                                   transformers=[(&#x27;onehotencoder&#x27;,\n",
       "                                                  OneHotEncoder(categories=[array([&#x27;Nissan&#x27;, &#x27;alfa-romero&#x27;, &#x27;audi&#x27;, &#x27;bmw&#x27;, &#x27;buick&#x27;, &#x27;chevrolet&#x27;,\n",
       "       &#x27;dodge&#x27;, &#x27;honda&#x27;, &#x27;isuzu&#x27;, &#x27;jaguar&#x27;, &#x27;maxda&#x27;, &#x27;mazda&#x27;, &#x27;mercury&#x27;,\n",
       "       &#x27;mitsubishi&#x27;, &#x27;nissan&#x27;, &#x27;peugeot&#x27;, &#x27;plymouth&#x27;, &#x27;porcshce&#x27;,\n",
       "       &#x27;porsche&#x27;, &#x27;renault&#x27;, &#x27;saab&#x27;, &#x27;subaru&#x27;, &#x27;t...\n",
       "       &#x27;volvo 145e (sw)volvo 144eavolvo 244dlvolvo 245volvo 264glvolvo dieselvolvo 145e (sw)volvo 144eavolvo 244dlvolvo 246volvo 264gl&#x27;,\n",
       "       &#x27;vw dashervw rabbit&#x27;], dtype=object),\n",
       "                                                                            array([&#x27;Diesel&#x27;, &#x27;Gas&#x27;], dtype=object),\n",
       "                                                                            array([&#x27;Convertible&#x27;, &#x27;Hardtop&#x27;, &#x27;Hatchback&#x27;, &#x27;Sedan&#x27;, &#x27;Wagon&#x27;],\n",
       "      dtype=object),\n",
       "                                                                            array([&#x27;Front Wheel Drive&#x27;, &#x27;Rear Wheel Drive&#x27;], dtype=object)]),\n",
       "                                                  [&#x27;Company&#x27;, &#x27;CarName&#x27;,\n",
       "                                                   &#x27;fueltype&#x27;, &#x27;carbody&#x27;,\n",
       "                                                   &#x27;drivewheel&#x27;])])),\n",
       "                (&#x27;linearregression&#x27;, LinearRegression())])</pre><b>In a Jupyter environment, please rerun this cell to show the HTML representation or trust the notebook. <br />On GitHub, the HTML representation is unable to render, please try loading this page with nbviewer.org.</b></div><div class=\"sk-container\" hidden><div class=\"sk-item sk-dashed-wrapped\"><div class=\"sk-label-container\"><div class=\"sk-label sk-toggleable\"><input class=\"sk-toggleable__control sk-hidden--visually\" id=\"sk-estimator-id-10\" type=\"checkbox\" ><label for=\"sk-estimator-id-10\" class=\"sk-toggleable__label sk-toggleable__label-arrow\">Pipeline</label><div class=\"sk-toggleable__content\"><pre>Pipeline(steps=[(&#x27;columntransformer&#x27;,\n",
       "                 ColumnTransformer(remainder=&#x27;passthrough&#x27;,\n",
       "                                   transformers=[(&#x27;onehotencoder&#x27;,\n",
       "                                                  OneHotEncoder(categories=[array([&#x27;Nissan&#x27;, &#x27;alfa-romero&#x27;, &#x27;audi&#x27;, &#x27;bmw&#x27;, &#x27;buick&#x27;, &#x27;chevrolet&#x27;,\n",
       "       &#x27;dodge&#x27;, &#x27;honda&#x27;, &#x27;isuzu&#x27;, &#x27;jaguar&#x27;, &#x27;maxda&#x27;, &#x27;mazda&#x27;, &#x27;mercury&#x27;,\n",
       "       &#x27;mitsubishi&#x27;, &#x27;nissan&#x27;, &#x27;peugeot&#x27;, &#x27;plymouth&#x27;, &#x27;porcshce&#x27;,\n",
       "       &#x27;porsche&#x27;, &#x27;renault&#x27;, &#x27;saab&#x27;, &#x27;subaru&#x27;, &#x27;t...\n",
       "       &#x27;volvo 145e (sw)volvo 144eavolvo 244dlvolvo 245volvo 264glvolvo dieselvolvo 145e (sw)volvo 144eavolvo 244dlvolvo 246volvo 264gl&#x27;,\n",
       "       &#x27;vw dashervw rabbit&#x27;], dtype=object),\n",
       "                                                                            array([&#x27;Diesel&#x27;, &#x27;Gas&#x27;], dtype=object),\n",
       "                                                                            array([&#x27;Convertible&#x27;, &#x27;Hardtop&#x27;, &#x27;Hatchback&#x27;, &#x27;Sedan&#x27;, &#x27;Wagon&#x27;],\n",
       "      dtype=object),\n",
       "                                                                            array([&#x27;Front Wheel Drive&#x27;, &#x27;Rear Wheel Drive&#x27;], dtype=object)]),\n",
       "                                                  [&#x27;Company&#x27;, &#x27;CarName&#x27;,\n",
       "                                                   &#x27;fueltype&#x27;, &#x27;carbody&#x27;,\n",
       "                                                   &#x27;drivewheel&#x27;])])),\n",
       "                (&#x27;linearregression&#x27;, LinearRegression())])</pre></div></div></div><div class=\"sk-serial\"><div class=\"sk-item sk-dashed-wrapped\"><div class=\"sk-label-container\"><div class=\"sk-label sk-toggleable\"><input class=\"sk-toggleable__control sk-hidden--visually\" id=\"sk-estimator-id-11\" type=\"checkbox\" ><label for=\"sk-estimator-id-11\" class=\"sk-toggleable__label sk-toggleable__label-arrow\">columntransformer: ColumnTransformer</label><div class=\"sk-toggleable__content\"><pre>ColumnTransformer(remainder=&#x27;passthrough&#x27;,\n",
       "                  transformers=[(&#x27;onehotencoder&#x27;,\n",
       "                                 OneHotEncoder(categories=[array([&#x27;Nissan&#x27;, &#x27;alfa-romero&#x27;, &#x27;audi&#x27;, &#x27;bmw&#x27;, &#x27;buick&#x27;, &#x27;chevrolet&#x27;,\n",
       "       &#x27;dodge&#x27;, &#x27;honda&#x27;, &#x27;isuzu&#x27;, &#x27;jaguar&#x27;, &#x27;maxda&#x27;, &#x27;mazda&#x27;, &#x27;mercury&#x27;,\n",
       "       &#x27;mitsubishi&#x27;, &#x27;nissan&#x27;, &#x27;peugeot&#x27;, &#x27;plymouth&#x27;, &#x27;porcshce&#x27;,\n",
       "       &#x27;porsche&#x27;, &#x27;renault&#x27;, &#x27;saab&#x27;, &#x27;subaru&#x27;, &#x27;toyota&#x27;, &#x27;toyouta&#x27;,\n",
       "       &#x27;vokswagen&#x27;, &#x27;volkswa...\n",
       "       &#x27;volvo 145e (sw)volvo 144eavolvo 244dlvolvo 245volvo 264glvolvo dieselvolvo 145e (sw)volvo 144eavolvo 244dlvolvo 246volvo 264gl&#x27;,\n",
       "       &#x27;vw dashervw rabbit&#x27;], dtype=object),\n",
       "                                                           array([&#x27;Diesel&#x27;, &#x27;Gas&#x27;], dtype=object),\n",
       "                                                           array([&#x27;Convertible&#x27;, &#x27;Hardtop&#x27;, &#x27;Hatchback&#x27;, &#x27;Sedan&#x27;, &#x27;Wagon&#x27;],\n",
       "      dtype=object),\n",
       "                                                           array([&#x27;Front Wheel Drive&#x27;, &#x27;Rear Wheel Drive&#x27;], dtype=object)]),\n",
       "                                 [&#x27;Company&#x27;, &#x27;CarName&#x27;, &#x27;fueltype&#x27;, &#x27;carbody&#x27;,\n",
       "                                  &#x27;drivewheel&#x27;])])</pre></div></div></div><div class=\"sk-parallel\"><div class=\"sk-parallel-item\"><div class=\"sk-item\"><div class=\"sk-label-container\"><div class=\"sk-label sk-toggleable\"><input class=\"sk-toggleable__control sk-hidden--visually\" id=\"sk-estimator-id-12\" type=\"checkbox\" ><label for=\"sk-estimator-id-12\" class=\"sk-toggleable__label sk-toggleable__label-arrow\">onehotencoder</label><div class=\"sk-toggleable__content\"><pre>[&#x27;Company&#x27;, &#x27;CarName&#x27;, &#x27;fueltype&#x27;, &#x27;carbody&#x27;, &#x27;drivewheel&#x27;]</pre></div></div></div><div class=\"sk-serial\"><div class=\"sk-item\"><div class=\"sk-estimator sk-toggleable\"><input class=\"sk-toggleable__control sk-hidden--visually\" id=\"sk-estimator-id-13\" type=\"checkbox\" ><label for=\"sk-estimator-id-13\" class=\"sk-toggleable__label sk-toggleable__label-arrow\">OneHotEncoder</label><div class=\"sk-toggleable__content\"><pre>OneHotEncoder(categories=[array([&#x27;Nissan&#x27;, &#x27;alfa-romero&#x27;, &#x27;audi&#x27;, &#x27;bmw&#x27;, &#x27;buick&#x27;, &#x27;chevrolet&#x27;,\n",
       "       &#x27;dodge&#x27;, &#x27;honda&#x27;, &#x27;isuzu&#x27;, &#x27;jaguar&#x27;, &#x27;maxda&#x27;, &#x27;mazda&#x27;, &#x27;mercury&#x27;,\n",
       "       &#x27;mitsubishi&#x27;, &#x27;nissan&#x27;, &#x27;peugeot&#x27;, &#x27;plymouth&#x27;, &#x27;porcshce&#x27;,\n",
       "       &#x27;porsche&#x27;, &#x27;renault&#x27;, &#x27;saab&#x27;, &#x27;subaru&#x27;, &#x27;toyota&#x27;, &#x27;toyouta&#x27;,\n",
       "       &#x27;vokswagen&#x27;, &#x27;volkswagen&#x27;, &#x27;volvo&#x27;, &#x27;vw&#x27;], dtype=object),\n",
       "                          array([&#x27;Nissan versa&#x27;,\n",
       "       &#x27;alfa-romero giuliaa...\n",
       "       &#x27;volkswagen 1131 deluxe sedanvolkswagen model 111volkswagen type 3volkswagen 411 (sw)volkswagen super beetlevolkswagen dashervolkswagen rabbitvolkswagen rabbit customvolkswagen dasher&#x27;,\n",
       "       &#x27;volvo 145e (sw)volvo 144eavolvo 244dlvolvo 245volvo 264glvolvo dieselvolvo 145e (sw)volvo 144eavolvo 244dlvolvo 246volvo 264gl&#x27;,\n",
       "       &#x27;vw dashervw rabbit&#x27;], dtype=object),\n",
       "                          array([&#x27;Diesel&#x27;, &#x27;Gas&#x27;], dtype=object),\n",
       "                          array([&#x27;Convertible&#x27;, &#x27;Hardtop&#x27;, &#x27;Hatchback&#x27;, &#x27;Sedan&#x27;, &#x27;Wagon&#x27;],\n",
       "      dtype=object),\n",
       "                          array([&#x27;Front Wheel Drive&#x27;, &#x27;Rear Wheel Drive&#x27;], dtype=object)])</pre></div></div></div></div></div></div><div class=\"sk-parallel-item\"><div class=\"sk-item\"><div class=\"sk-label-container\"><div class=\"sk-label sk-toggleable\"><input class=\"sk-toggleable__control sk-hidden--visually\" id=\"sk-estimator-id-14\" type=\"checkbox\" ><label for=\"sk-estimator-id-14\" class=\"sk-toggleable__label sk-toggleable__label-arrow\">remainder</label><div class=\"sk-toggleable__content\"><pre>[&#x27;horsepower&#x27;]</pre></div></div></div><div class=\"sk-serial\"><div class=\"sk-item\"><div class=\"sk-estimator sk-toggleable\"><input class=\"sk-toggleable__control sk-hidden--visually\" id=\"sk-estimator-id-15\" type=\"checkbox\" ><label for=\"sk-estimator-id-15\" class=\"sk-toggleable__label sk-toggleable__label-arrow\">passthrough</label><div class=\"sk-toggleable__content\"><pre>passthrough</pre></div></div></div></div></div></div></div></div><div class=\"sk-item\"><div class=\"sk-estimator sk-toggleable\"><input class=\"sk-toggleable__control sk-hidden--visually\" id=\"sk-estimator-id-16\" type=\"checkbox\" ><label for=\"sk-estimator-id-16\" class=\"sk-toggleable__label sk-toggleable__label-arrow\">LinearRegression</label><div class=\"sk-toggleable__content\"><pre>LinearRegression()</pre></div></div></div></div></div></div></div>"
      ],
      "text/plain": [
       "Pipeline(steps=[('columntransformer',\n",
       "                 ColumnTransformer(remainder='passthrough',\n",
       "                                   transformers=[('onehotencoder',\n",
       "                                                  OneHotEncoder(categories=[array(['Nissan', 'alfa-romero', 'audi', 'bmw', 'buick', 'chevrolet',\n",
       "       'dodge', 'honda', 'isuzu', 'jaguar', 'maxda', 'mazda', 'mercury',\n",
       "       'mitsubishi', 'nissan', 'peugeot', 'plymouth', 'porcshce',\n",
       "       'porsche', 'renault', 'saab', 'subaru', 't...\n",
       "       'volvo 145e (sw)volvo 144eavolvo 244dlvolvo 245volvo 264glvolvo dieselvolvo 145e (sw)volvo 144eavolvo 244dlvolvo 246volvo 264gl',\n",
       "       'vw dashervw rabbit'], dtype=object),\n",
       "                                                                            array(['Diesel', 'Gas'], dtype=object),\n",
       "                                                                            array(['Convertible', 'Hardtop', 'Hatchback', 'Sedan', 'Wagon'],\n",
       "      dtype=object),\n",
       "                                                                            array(['Front Wheel Drive', 'Rear Wheel Drive'], dtype=object)]),\n",
       "                                                  ['Company', 'CarName',\n",
       "                                                   'fueltype', 'carbody',\n",
       "                                                   'drivewheel'])])),\n",
       "                ('linearregression', LinearRegression())])"
      ]
     },
     "execution_count": 78,
     "metadata": {},
     "output_type": "execute_result"
    }
   ],
   "source": [
    "\n",
    "pipe = make_pipeline(column_trans, lr)\n",
    "\n",
    "pipe.fit(X_train, y_train)"
   ]
  },
  {
   "cell_type": "code",
   "execution_count": 79,
   "id": "e83a66f9-78d4-4ffc-9499-624a69b035c4",
   "metadata": {},
   "outputs": [
    {
     "data": {
      "text/plain": [
       "array([119899.69388343,  98860.55566707,  49884.13545188, 109514.99689551,\n",
       "        22850.96124535,  47644.86024412])"
      ]
     },
     "execution_count": 79,
     "metadata": {},
     "output_type": "execute_result"
    }
   ],
   "source": [
    "y_pred=pipe.predict(X_test)\n",
    "y_pred"
   ]
  },
  {
   "cell_type": "markdown",
   "id": "729877d0-fe88-4c57-8e8e-d0ab8cc0c0aa",
   "metadata": {},
   "source": [
    "# Making Predictions"
   ]
  },
  {
   "cell_type": "code",
   "execution_count": 141,
   "id": "10741acf-a8cd-4bd9-ba27-6651cbdf8622",
   "metadata": {},
   "outputs": [],
   "source": [
    "def predict_price(company, car_name, fuel_type, car_body, drive_wheel, horsepower):\n",
    "    # Create a DataFrame with the provided data\n",
    "    data = pd.DataFrame({\n",
    "        'Company': [company],\n",
    "        'CarName': [car_name],\n",
    "        'fueltype': [fuel_type],\n",
    "        'carbody': [car_body],\n",
    "        'drivewheel': [drive_wheel],\n",
    "        'horsepower': [horsepower]\n",
    "    })\n",
    "    \n",
    "    # Use the pipeline to make predictions\n",
    "    predicted_price = pipe.predict(data)\n",
    "    return predicted_price"
   ]
  },
  {
   "cell_type": "code",
   "execution_count": 142,
   "id": "dc3151ef-3226-4e89-8865-f28e774d3a7a",
   "metadata": {},
   "outputs": [
    {
     "data": {
      "text/plain": [
       "array([22850.96124535])"
      ]
     },
     "execution_count": 142,
     "metadata": {},
     "output_type": "execute_result"
    }
   ],
   "source": [
    "predict_price('Nissan', 'Nissan versa', 'Gas', 'Sedan', 'Front Wheel Drive', 69)"
   ]
  },
  {
   "cell_type": "code",
   "execution_count": 151,
   "id": "1538c28a-0cfe-4278-8aaa-696c645b48cd",
   "metadata": {},
   "outputs": [
    {
     "data": {
      "text/plain": [
       "array([425594.83128466])"
      ]
     },
     "execution_count": 151,
     "metadata": {},
     "output_type": "execute_result"
    }
   ],
   "source": [
    "predict_price('toyouta',\t'toyouta tercel',\t'Gas',\t'Convertible'\t,'Rear Wheel Drive'\t,3760)"
   ]
  },
  {
   "cell_type": "markdown",
   "id": "edac7f1e-3933-44df-b94e-d9627a2bd21f",
   "metadata": {},
   "source": [
    "# Accuracy"
   ]
  },
  {
   "cell_type": "code",
   "execution_count": 80,
   "id": "13201c57-d55c-4f4d-8ca4-638826710d81",
   "metadata": {},
   "outputs": [
    {
     "data": {
      "text/plain": [
       "0.8196603873709981"
      ]
     },
     "execution_count": 80,
     "metadata": {},
     "output_type": "execute_result"
    }
   ],
   "source": [
    "r2_score(y_test,y_pred)"
   ]
  },
  {
   "cell_type": "markdown",
   "id": "f7669a1f-4077-4eb6-8dc1-d624b30eb821",
   "metadata": {},
   "source": [
    "# Evaluating Different Models"
   ]
  },
  {
   "cell_type": "code",
   "execution_count": 85,
   "id": "603f1bf2-ac85-4dc8-91c7-bee3e1861186",
   "metadata": {},
   "outputs": [
    {
     "name": "stdout",
     "output_type": "stream",
     "text": [
      "R-squared score on test data with Polynomial Regression: 0.9826519798880156\n"
     ]
    }
   ],
   "source": [
    "from sklearn.preprocessing import PolynomialFeatures\n",
    "from sklearn.linear_model import LinearRegression\n",
    "\n",
    "poly = PolynomialFeatures(degree=2)\n",
    "\n",
    "pipe_poly = make_pipeline(column_trans, poly, LinearRegression())\n",
    "\n",
    "pipe_poly.fit(X_train, y_train)\n",
    "\n",
    "r2_score_test_poly = pipe_poly.score(X_test, y_test)\n",
    "\n",
    "print(\"R-squared score on test data with Polynomial Regression:\", r2_score_test_poly)\n"
   ]
  },
  {
   "cell_type": "code",
   "execution_count": 84,
   "id": "06f2f789-a064-41f8-bad7-9e564a980253",
   "metadata": {},
   "outputs": [
    {
     "name": "stdout",
     "output_type": "stream",
     "text": [
      "R-squared score on test data with Huber Regressor: 0.88848639448764\n"
     ]
    },
    {
     "name": "stderr",
     "output_type": "stream",
     "text": [
      "C:\\Users\\dell\\anaconda3\\Lib\\site-packages\\sklearn\\linear_model\\_huber.py:342: ConvergenceWarning: lbfgs failed to converge (status=1):\n",
      "STOP: TOTAL NO. of ITERATIONS REACHED LIMIT.\n",
      "\n",
      "Increase the number of iterations (max_iter) or scale the data as shown in:\n",
      "    https://scikit-learn.org/stable/modules/preprocessing.html\n",
      "  self.n_iter_ = _check_optimize_result(\"lbfgs\", opt_res, self.max_iter)\n"
     ]
    }
   ],
   "source": [
    "from sklearn.linear_model import HuberRegressor\n",
    "\n",
    "pipe_huber = make_pipeline(column_trans, HuberRegressor())\n",
    "\n",
    "pipe_huber.fit(X_train, y_train)\n",
    "\n",
    "r2_score_test_huber = pipe_huber.score(X_test, y_test)\n",
    "\n",
    "print(\"R-squared score on test data with Huber Regressor:\", r2_score_test_huber)\n"
   ]
  },
  {
   "cell_type": "code",
   "execution_count": null,
   "id": "cea14f35-5d0d-4fee-a4f0-4676603d455e",
   "metadata": {},
   "outputs": [],
   "source": []
  }
 ],
 "metadata": {
  "kernelspec": {
   "display_name": "Python 3 (ipykernel)",
   "language": "python",
   "name": "python3"
  },
  "language_info": {
   "codemirror_mode": {
    "name": "ipython",
    "version": 3
   },
   "file_extension": ".py",
   "mimetype": "text/x-python",
   "name": "python",
   "nbconvert_exporter": "python",
   "pygments_lexer": "ipython3",
   "version": "3.11.5"
  }
 },
 "nbformat": 4,
 "nbformat_minor": 5
}
